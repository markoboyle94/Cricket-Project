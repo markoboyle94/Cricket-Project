{
 "cells": [
  {
   "cell_type": "markdown",
   "metadata": {},
   "source": [
    "# Example of Data preparation and derivation for Batting variables"
   ]
  },
  {
   "cell_type": "markdown",
   "metadata": {},
   "source": [
    "Import necessary packages and load the data\n",
    "Data taken from kaggle: https://www.kaggle.com/nowke9/ipldata"
   ]
  },
  {
   "cell_type": "code",
   "execution_count": 8,
   "metadata": {},
   "outputs": [],
   "source": [
    "import pandas as pd\n",
    "import numpy as np\n",
    "deliveries = pd.read_csv('C:/Users/44747/Documents/Data Science/Cricket/deliveries.csv')\n",
    "matches = pd.read_csv('C:/Users/44747/Documents/Data Science/Cricket/matches.csv')"
   ]
  },
  {
   "cell_type": "markdown",
   "metadata": {},
   "source": [
    "Merge the two datasets to add the season column to the dataframes so season by season analysis can be carried out"
   ]
  },
  {
   "cell_type": "code",
   "execution_count": 9,
   "metadata": {},
   "outputs": [],
   "source": [
    "cricketseasons = pd.merge(matches,deliveries, on='match_id')\n",
    "deliveries['season'] = cricketseasons['season']\n",
    "cricket = deliveries"
   ]
  },
  {
   "cell_type": "markdown",
   "metadata": {},
   "source": [
    "Replace NaN in player dismissed column with numerical values, to make calculations using wickets possible\n",
    "Replace string value of player dismissed to numeric"
   ]
  },
  {
   "cell_type": "code",
   "execution_count": 10,
   "metadata": {},
   "outputs": [],
   "source": [
    "cricket['player_dismissed'] = cricket['player_dismissed'].fillna(0)\n",
    "cricket['player_dismissed'] = pd.to_numeric(cricket['player_dismissed'], errors='coerce').fillna(1).astype(int)"
   ]
  },
  {
   "cell_type": "markdown",
   "metadata": {},
   "source": [
    "Replacing the Team Names with their abbreviations\n",
    "The renaming code was taken and adapted from some Kaggle analysis on the same dataset"
   ]
  },
  {
   "cell_type": "code",
   "execution_count": 11,
   "metadata": {},
   "outputs": [],
   "source": [
    "matches.replace(['Mumbai Indians','Kolkata Knight Riders','Royal Challengers Bangalore','Deccan Chargers','Chennai Super Kings',\n",
    "                 'Rajasthan Royals','Delhi Daredevils','Gujarat Lions','Kings XI Punjab',\n",
    "                 'Sunrisers Hyderabad','Rising Pune Supergiants','Kochi Tuskers Kerala','Pune Warriors','Rising Pune Supergiant']\n",
    "                ,['MI','KKR','RCB','DC','CSK','RR','DD','GL','KXIP','SRH','RPS','KTK','PW','RPS'],inplace=True)\n",
    "\n",
    "cricket.replace(['Mumbai Indians','Kolkata Knight Riders','Royal Challengers Bangalore','Deccan Chargers','Chennai Super Kings',\n",
    "                 'Rajasthan Royals','Delhi Daredevils','Gujarat Lions','Kings XI Punjab',\n",
    "                 'Sunrisers Hyderabad','Rising Pune Supergiants','Kochi Tuskers Kerala','Pune Warriors','Rising Pune Supergiant']\n",
    "                ,['MI','KKR','RCB','DC','CSK','RR','DD','GL','KXIP','SRH','RPS','KTK','PW','RPS'],inplace=True)\n"
   ]
  },
  {
   "cell_type": "code",
   "execution_count": 12,
   "metadata": {},
   "outputs": [],
   "source": [
    "MI_Batting = cricket[cricket.batting_team == 'MI']"
   ]
  },
  {
   "cell_type": "markdown",
   "metadata": {},
   "source": [
    "Calculating the batting strike rate"
   ]
  },
  {
   "cell_type": "code",
   "execution_count": 13,
   "metadata": {},
   "outputs": [],
   "source": [
    "MI_Batting2008 = MI_Batting[MI_Batting.season == 2008]\n",
    "index_2008 = MI_Batting2008.index\n",
    "number_of_balls = len(index_2008)\n",
    "TRuns2008 = MI_Batting2008['total_runs'].sum()\n",
    "MI_SR_2008 = TRuns2008/number_of_balls\n",
    "MI_Batting2009 = MI_Batting[MI_Batting.season == 2009]\n",
    "index_2009 = MI_Batting2009.index\n",
    "number_of_balls_2009 = len(index_2009)\n",
    "TRuns2009 = MI_Batting2009['total_runs'].sum()\n",
    "MI_SR_2009 = TRuns2009/number_of_balls_2009\n",
    "MI_Batting2010 = MI_Batting[MI_Batting.season == 2010]\n",
    "index_2010 = MI_Batting2010.index\n",
    "number_of_balls_2010 = len(index_2010)\n",
    "TRuns2010 = MI_Batting2010['total_runs'].sum()\n",
    "MI_SR_2010 = TRuns2010/number_of_balls_2010\n",
    "MI_Batting2011 = MI_Batting[MI_Batting.season == 2011]\n",
    "index_2011 = MI_Batting2011.index\n",
    "number_of_balls_2011 = len(index_2011)\n",
    "TRuns2011 = MI_Batting2011['total_runs'].sum()\n",
    "MI_SR_2011 = TRuns2011/number_of_balls_2011\n",
    "MI_Batting2012 = MI_Batting[MI_Batting.season == 2012]\n",
    "index_2012 = MI_Batting2012.index\n",
    "number_of_balls_2012 = len(index_2012)\n",
    "TRuns2012 = MI_Batting2012['total_runs'].sum()\n",
    "MI_SR_2012 = TRuns2012/number_of_balls_2012\n",
    "MI_Batting2013 = MI_Batting[MI_Batting.season == 2013]\n",
    "index_2013 = MI_Batting2013.index\n",
    "number_of_balls_2013 = len(index_2013)\n",
    "TRuns2013 = MI_Batting2013['total_runs'].sum()\n",
    "MI_SR_2013 = TRuns2013/number_of_balls_2013\n",
    "MI_Batting2014 = MI_Batting[MI_Batting.season == 2014]\n",
    "index_2014 = MI_Batting2014.index\n",
    "number_of_balls_2014 = len(index_2014)\n",
    "TRuns2014 = MI_Batting2014['total_runs'].sum()\n",
    "MI_SR_2014 = TRuns2014/number_of_balls_2014\n",
    "MI_Batting2015 = MI_Batting[MI_Batting.season == 2015]\n",
    "index_2015 = MI_Batting2015.index\n",
    "number_of_balls_2015 = len(index_2015)\n",
    "TRuns2015 = MI_Batting2015['total_runs'].sum()\n",
    "MI_SR_2015 = TRuns2015/number_of_balls_2015\n",
    "MI_Batting2016 = MI_Batting[MI_Batting.season == 2016]\n",
    "index_2016 = MI_Batting2016.index\n",
    "number_of_balls_2016 = len(index_2016)\n",
    "TRuns2016 = MI_Batting2016['total_runs'].sum()\n",
    "MI_SR_2016 = TRuns2016/number_of_balls_2016\n",
    "MI_Batting2017 = MI_Batting[MI_Batting.season == 2017]\n",
    "index_2017 = MI_Batting2017.index\n",
    "number_of_balls_2017 = len(index_2017)\n",
    "TRuns2017 = MI_Batting2017['total_runs'].sum()\n",
    "MI_SR_2017 = TRuns2017/number_of_balls_2017\n",
    "MI_Batting2018 = MI_Batting[MI_Batting.season == 2018]\n",
    "index_2018 = MI_Batting2018.index\n",
    "number_of_balls_2018 = len(index_2018)\n",
    "TRuns2018 = MI_Batting2018['total_runs'].sum()\n",
    "MI_SR_2018 = TRuns2018/number_of_balls_2018\n",
    "MI_Batting2019 = MI_Batting[MI_Batting.season == 2019]\n",
    "index_2019 = MI_Batting2019.index\n",
    "number_of_balls_2019 = len(index_2019)\n",
    "TRuns2019 = MI_Batting2019['total_runs'].sum()\n",
    "MI_SR_2019 = TRuns2019/number_of_balls_2019"
   ]
  },
  {
   "cell_type": "markdown",
   "metadata": {},
   "source": [
    "Calculating the Runs per game variable"
   ]
  },
  {
   "cell_type": "code",
   "execution_count": 14,
   "metadata": {},
   "outputs": [],
   "source": [
    "No_of_games_2008 = MI_Batting2008['match_id'].nunique()\n",
    "RPG_2008 = TRuns2008 / No_of_games_2008\n",
    "No_of_games_2009 = MI_Batting2009['match_id'].nunique()\n",
    "RPG_2009 = TRuns2009 / No_of_games_2009\n",
    "No_of_games_2010 = MI_Batting2010['match_id'].nunique()\n",
    "RPG_2010 = TRuns2010 / No_of_games_2010\n",
    "No_of_games_2011 = MI_Batting2011['match_id'].nunique()\n",
    "RPG_2011 = TRuns2011 / No_of_games_2011\n",
    "No_of_games_2012 = MI_Batting2012['match_id'].nunique()\n",
    "RPG_2012 = TRuns2012 / No_of_games_2012\n",
    "No_of_games_2013 = MI_Batting2013['match_id'].nunique()\n",
    "RPG_2013 = TRuns2013 / No_of_games_2013\n",
    "No_of_games_2014 = MI_Batting2014['match_id'].nunique()\n",
    "RPG_2014 = TRuns2014 / No_of_games_2014\n",
    "No_of_games_2015 = MI_Batting2015['match_id'].nunique()\n",
    "RPG_2015 = TRuns2015 / No_of_games_2015\n",
    "No_of_games_2016 = MI_Batting2016['match_id'].nunique()\n",
    "RPG_2016 = TRuns2016 / No_of_games_2016\n",
    "No_of_games_2017 = MI_Batting2017['match_id'].nunique()\n",
    "RPG_2017 = TRuns2017 / No_of_games_2017\n",
    "No_of_games_2018 = MI_Batting2018['match_id'].nunique()\n",
    "RPG_2018 = TRuns2018 / No_of_games_2018\n",
    "No_of_games_2019 = MI_Batting2019['match_id'].nunique()\n",
    "RPG_2019 = TRuns2019 / No_of_games_2019"
   ]
  },
  {
   "cell_type": "markdown",
   "metadata": {},
   "source": [
    "Calculating the average Poerplay runs scored variable"
   ]
  },
  {
   "cell_type": "code",
   "execution_count": 15,
   "metadata": {},
   "outputs": [],
   "source": [
    "PP_Runs_2008 = MI_Batting2008.loc[MI_Batting2008['over'] < 7, 'total_runs'].sum() / No_of_games_2008\n",
    "PP_Runs_2009 = MI_Batting2009.loc[MI_Batting2009['over'] < 7, 'total_runs'].sum() / No_of_games_2009\n",
    "PP_Runs_2010 = MI_Batting2010.loc[MI_Batting2010['over'] < 7, 'total_runs'].sum() / No_of_games_2010\n",
    "PP_Runs_2011 = MI_Batting2011.loc[MI_Batting2011['over'] < 7, 'total_runs'].sum() / No_of_games_2011\n",
    "PP_Runs_2012 = MI_Batting2012.loc[MI_Batting2012['over'] < 7, 'total_runs'].sum() / No_of_games_2012\n",
    "PP_Runs_2013 = MI_Batting2013.loc[MI_Batting2013['over'] < 7, 'total_runs'].sum() / No_of_games_2013\n",
    "PP_Runs_2014 = MI_Batting2014.loc[MI_Batting2014['over'] < 7, 'total_runs'].sum() / No_of_games_2014\n",
    "PP_Runs_2015 = MI_Batting2015.loc[MI_Batting2015['over'] < 7, 'total_runs'].sum() / No_of_games_2015\n",
    "PP_Runs_2016 = MI_Batting2016.loc[MI_Batting2016['over'] < 7, 'total_runs'].sum() / No_of_games_2016\n",
    "PP_Runs_2017 = MI_Batting2017.loc[MI_Batting2017['over'] < 7, 'total_runs'].sum() / No_of_games_2017\n",
    "PP_Runs_2018 = MI_Batting2018.loc[MI_Batting2018['over'] < 7, 'total_runs'].sum() / No_of_games_2018\n",
    "PP_Runs_2019 = MI_Batting2019.loc[MI_Batting2019['over'] < 7, 'total_runs'].sum() / No_of_games_2019"
   ]
  },
  {
   "cell_type": "markdown",
   "metadata": {},
   "source": [
    "Calculating the Runs per wicket variable"
   ]
  },
  {
   "cell_type": "code",
   "execution_count": 17,
   "metadata": {},
   "outputs": [],
   "source": [
    "TW_2008 = MI_Batting2008['player_dismissed'].sum()\n",
    "RPW_2008_Bat = TRuns2008 / TW_2008\n",
    "TW_2009 = MI_Batting2009['player_dismissed'].sum()\n",
    "RPW_2009_Bat = TRuns2009 / TW_2009\n",
    "TW_2010 = MI_Batting2010['player_dismissed'].sum()\n",
    "RPW_2010_Bat = TRuns2010 / TW_2010\n",
    "TW_2011 = MI_Batting2011['player_dismissed'].sum()\n",
    "RPW_2011_Bat = TRuns2011 / TW_2011\n",
    "TW_2012 = MI_Batting2012['player_dismissed'].sum()\n",
    "RPW_2012_Bat = TRuns2012 / TW_2012\n",
    "TW_2013 = MI_Batting2013['player_dismissed'].sum()\n",
    "RPW_2013_Bat = TRuns2013 / TW_2013\n",
    "TW_2014 = MI_Batting2014['player_dismissed'].sum()\n",
    "RPW_2014_Bat = TRuns2014 / TW_2014\n",
    "TW_2015 = MI_Batting2015['player_dismissed'].sum()\n",
    "RPW_2015_Bat = TRuns2015 / TW_2015\n",
    "TW_2016 = MI_Batting2016['player_dismissed'].sum()\n",
    "RPW_2016_Bat = TRuns2016 / TW_2016\n",
    "TW_2017 = MI_Batting2017['player_dismissed'].sum()\n",
    "RPW_2017_Bat = TRuns2017 / TW_2017\n",
    "TW_2018 = MI_Batting2018['player_dismissed'].sum()\n",
    "RPW_2018_Bat = TRuns2018 / TW_2018\n",
    "TW_2019 = MI_Batting2019['player_dismissed'].sum()\n",
    "RPW_2019_Bat = TRuns2019 / TW_2019"
   ]
  },
  {
   "cell_type": "markdown",
   "metadata": {},
   "source": [
    "Calculating the powerplay wickets lost variable"
   ]
  },
  {
   "cell_type": "code",
   "execution_count": 18,
   "metadata": {},
   "outputs": [],
   "source": [
    "PP_WL_2008 = MI_Batting2009.loc[MI_Batting2009['over'] < 7, 'player_dismissed'].sum() / No_of_games_2008\n",
    "PP_WL_2009 = MI_Batting2009.loc[MI_Batting2009['over'] < 7, 'player_dismissed'].sum() / No_of_games_2009\n",
    "PP_WL_2010 = MI_Batting2010.loc[MI_Batting2010['over'] < 7, 'player_dismissed'].sum() / No_of_games_2010\n",
    "PP_WL_2011 = MI_Batting2011.loc[MI_Batting2011['over'] < 7, 'player_dismissed'].sum() / No_of_games_2011\n",
    "PP_WL_2012 = MI_Batting2012.loc[MI_Batting2012['over'] < 7, 'player_dismissed'].sum() / No_of_games_2012\n",
    "PP_WL_2013 = MI_Batting2013.loc[MI_Batting2013['over'] < 7, 'player_dismissed'].sum() / No_of_games_2013\n",
    "PP_WL_2014 = MI_Batting2014.loc[MI_Batting2014['over'] < 7, 'player_dismissed'].sum() / No_of_games_2014\n",
    "PP_WL_2015 = MI_Batting2015.loc[MI_Batting2015['over'] < 7, 'player_dismissed'].sum() / No_of_games_2015\n",
    "PP_WL_2016 = MI_Batting2016.loc[MI_Batting2016['over'] < 7, 'player_dismissed'].sum() / No_of_games_2016\n",
    "PP_WL_2017 = MI_Batting2017.loc[MI_Batting2017['over'] < 7, 'player_dismissed'].sum() / No_of_games_2017\n",
    "PP_WL_2018 = MI_Batting2018.loc[MI_Batting2018['over'] < 7, 'player_dismissed'].sum() / No_of_games_2018\n",
    "PP_WL_2019 = MI_Batting2019.loc[MI_Batting2019['over'] < 7, 'player_dismissed'].sum() / No_of_games_2019"
   ]
  },
  {
   "cell_type": "markdown",
   "metadata": {},
   "source": [
    "Calculating the dots per game variable"
   ]
  },
  {
   "cell_type": "code",
   "execution_count": 19,
   "metadata": {},
   "outputs": [],
   "source": [
    "MI_dots2008 = (MI_Batting2008['total_runs'] == 0).astype(int).sum()\n",
    "MIDotsPG2008 =   MI_dots2008 / No_of_games_2008\n",
    "MI_dots2009 = (MI_Batting2009['total_runs'] == 0).astype(int).sum()\n",
    "MIDotsPG2009 =   MI_dots2009 / No_of_games_2009\n",
    "MI_dots2010 = (MI_Batting2010['total_runs'] == 0).astype(int).sum()\n",
    "MIDotsPG2010 =   MI_dots2010 / No_of_games_2010\n",
    "MI_dots2011 = (MI_Batting2011['total_runs'] == 0).astype(int).sum()\n",
    "MIDotsPG2011 =   MI_dots2011 / No_of_games_2011\n",
    "MI_dots2012 = (MI_Batting2012['total_runs'] == 0).astype(int).sum()\n",
    "MIDotsPG2012 =   MI_dots2012 / No_of_games_2012\n",
    "MI_dots2013 = (MI_Batting2013['total_runs'] == 0).astype(int).sum()\n",
    "MIDotsPG2013 =   MI_dots2013 / No_of_games_2013\n",
    "MI_dots2014 = (MI_Batting2014['total_runs'] == 0).astype(int).sum()\n",
    "MIDotsPG2014 =   MI_dots2014 / No_of_games_2014\n",
    "MI_dots2015 = (MI_Batting2015['total_runs'] == 0).astype(int).sum()\n",
    "MIDotsPG2015 =   MI_dots2015 / No_of_games_2015\n",
    "MI_dots2016 = (MI_Batting2016['total_runs'] == 0).astype(int).sum()\n",
    "MIDotsPG2016 =   MI_dots2016 / No_of_games_2016\n",
    "MI_dots2017 = (MI_Batting2017['total_runs'] == 0).astype(int).sum()\n",
    "MIDotsPG2017 =   MI_dots2017 / No_of_games_2017\n",
    "MI_dots2018 = (MI_Batting2018['total_runs'] == 0).astype(int).sum()\n",
    "MIDotsPG2018 =   MI_dots2018 / No_of_games_2018\n",
    "MI_dots2019 = (MI_Batting2019['total_runs'] == 0).astype(int).sum()\n",
    "MIDotsPG2019 =   MI_dots2019 / No_of_games_2019"
   ]
  },
  {
   "cell_type": "markdown",
   "metadata": {},
   "source": [
    "Calculating the boundaries per game variable"
   ]
  },
  {
   "cell_type": "code",
   "execution_count": 20,
   "metadata": {},
   "outputs": [],
   "source": [
    "MI_Boundaries2008 = (MI_Batting2008['batsman_runs'] > 3).astype(int).sum()\n",
    "MI_BsPB2008 = MI_Boundaries2008 / No_of_games_2008\n",
    "MI_Boundaries2009 = (MI_Batting2009['batsman_runs'] > 3).astype(int).sum()\n",
    "MI_BsPB2009 = MI_Boundaries2009 / No_of_games_2009\n",
    "MI_Boundaries2010 = (MI_Batting2010['batsman_runs'] > 3).astype(int).sum()\n",
    "MI_BsPB2010 = MI_Boundaries2010 / No_of_games_2010\n",
    "MI_Boundaries2011 = (MI_Batting2011['batsman_runs'] > 3).astype(int).sum()\n",
    "MI_BsPB2011 = MI_Boundaries2011 / No_of_games_2011\n",
    "MI_Boundaries2012 = (MI_Batting2012['batsman_runs'] > 3).astype(int).sum()\n",
    "MI_BsPB2012 = MI_Boundaries2012 / No_of_games_2012\n",
    "MI_Boundaries2013 = (MI_Batting2013['batsman_runs'] > 3).astype(int).sum()\n",
    "MI_BsPB2013 = MI_Boundaries2013 / No_of_games_2013\n",
    "MI_Boundaries2014 = (MI_Batting2014['batsman_runs'] > 3).astype(int).sum()\n",
    "MI_BsPB2014 = MI_Boundaries2014 / No_of_games_2014\n",
    "MI_Boundaries2015 = (MI_Batting2015['batsman_runs'] > 3).astype(int).sum()\n",
    "MI_BsPB2015 = MI_Boundaries2015 / No_of_games_2015\n",
    "MI_Boundaries2016 = (MI_Batting2016['batsman_runs'] > 3).astype(int).sum()\n",
    "MI_BsPB2016 = MI_Boundaries2016 / No_of_games_2016\n",
    "MI_Boundaries2017 = (MI_Batting2017['batsman_runs'] > 3).astype(int).sum()\n",
    "MI_BsPB2017 = MI_Boundaries2017 / No_of_games_2017\n",
    "MI_Boundaries2018 = (MI_Batting2018['batsman_runs'] > 3).astype(int).sum()\n",
    "MI_BsPB2018 = MI_Boundaries2018 / No_of_games_2018\n",
    "MI_Boundaries2019 = (MI_Batting2019['batsman_runs'] > 3).astype(int).sum()\n",
    "MI_BsPB2019 = MI_Boundaries2019 / No_of_games_2019"
   ]
  },
  {
   "cell_type": "markdown",
   "metadata": {},
   "source": [
    "Creating the pandars dataframe and adding in the points variable from the IPL website\n",
    "https://www.iplt20.com/points-table/2020"
   ]
  },
  {
   "cell_type": "code",
   "execution_count": 21,
   "metadata": {},
   "outputs": [],
   "source": [
    "MI_Variables = {'Season':  ['2008', '2009', '2010', '2011', '2012', '2013', '2014', '2015', '2016', '2017', '2018','2019'],\n",
    "        'Avg_SR': [MI_SR_2008, MI_SR_2009, MI_SR_2010,MI_SR_2011, MI_SR_2012, MI_SR_2013, MI_SR_2014, MI_SR_2015, MI_SR_2016, MI_SR_2017, MI_SR_2018, MI_SR_2019],\n",
    "                'Points':['14', '11', '20', '18', '20', '22', '14', '16', '14', '20', '12','18' ],\n",
    "                'RPG':[RPG_2008,RPG_2009,RPG_2010,RPG_2011,RPG_2012,RPG_2013,RPG_2014,RPG_2015,RPG_2016,RPG_2017,RPG_2018,RPG_2019],\n",
    "                'PowerPlay':[PP_Runs_2008, PP_Runs_2009,PP_Runs_2010,PP_Runs_2011,PP_Runs_2012,PP_Runs_2013,PP_Runs_2014,PP_Runs_2015,PP_Runs_2016,PP_Runs_2017,PP_Runs_2018,PP_Runs_2019],\n",
    "                'RunsPWBat':[RPW_2008_Bat,RPW_2009_Bat,RPW_2010_Bat,RPW_2011_Bat,RPW_2012_Bat,RPW_2013_Bat,RPW_2014_Bat,RPW_2015_Bat,RPW_2016_Bat,RPW_2017_Bat,RPW_2018_Bat,RPW_2019_Bat],\n",
    "                'PP_WLost':[PP_WL_2008,PP_WL_2009,PP_WL_2010,PP_WL_2011,PP_WL_2012,PP_WL_2013,PP_WL_2014,PP_WL_2015,PP_WL_2016,PP_WL_2017,PP_WL_2018,PP_WL_2019],\n",
    "                'BoundPG':[ MI_BsPB2008, MI_BsPB2009, MI_BsPB2010, MI_BsPB2011, MI_BsPB2012, MI_BsPB2013, MI_BsPB2014, MI_BsPB2015, MI_BsPB2016, MI_BsPB2017, MI_BsPB2018, MI_BsPB2019],\n",
    "'DotsPG': [MIDotsPG2008, MIDotsPG2009, MIDotsPG2010, MIDotsPG2011, MIDotsPG2012, MIDotsPG2013, MIDotsPG2014, MIDotsPG2015, MIDotsPG2016, MIDotsPG2017, MIDotsPG2018, MIDotsPG2019],\n",
    "\n",
    "                   }\n"
   ]
  },
  {
   "cell_type": "markdown",
   "metadata": {},
   "source": [
    "Producing the final dataframe for batting variables"
   ]
  },
  {
   "cell_type": "code",
   "execution_count": 22,
   "metadata": {},
   "outputs": [
    {
     "data": {
      "text/html": [
       "<div>\n",
       "<style scoped>\n",
       "    .dataframe tbody tr th:only-of-type {\n",
       "        vertical-align: middle;\n",
       "    }\n",
       "\n",
       "    .dataframe tbody tr th {\n",
       "        vertical-align: top;\n",
       "    }\n",
       "\n",
       "    .dataframe thead th {\n",
       "        text-align: right;\n",
       "    }\n",
       "</style>\n",
       "<table border=\"1\" class=\"dataframe\">\n",
       "  <thead>\n",
       "    <tr style=\"text-align: right;\">\n",
       "      <th></th>\n",
       "      <th>Season</th>\n",
       "      <th>Avg_SR</th>\n",
       "      <th>RPG</th>\n",
       "      <th>PowerPlay</th>\n",
       "      <th>PP_WLost</th>\n",
       "      <th>RunsPWBat</th>\n",
       "      <th>BoundPG</th>\n",
       "      <th>DotsPG</th>\n",
       "      <th>Points</th>\n",
       "      <th>Team</th>\n",
       "    </tr>\n",
       "  </thead>\n",
       "  <tbody>\n",
       "    <tr>\n",
       "      <th>0</th>\n",
       "      <td>2008</td>\n",
       "      <td>1.313131</td>\n",
       "      <td>148.571429</td>\n",
       "      <td>49.000000</td>\n",
       "      <td>1.857143</td>\n",
       "      <td>26.000000</td>\n",
       "      <td>19.642857</td>\n",
       "      <td>44.000000</td>\n",
       "      <td>14</td>\n",
       "      <td>MI</td>\n",
       "    </tr>\n",
       "    <tr>\n",
       "      <th>1</th>\n",
       "      <td>2009</td>\n",
       "      <td>1.178261</td>\n",
       "      <td>145.923077</td>\n",
       "      <td>38.692308</td>\n",
       "      <td>2.000000</td>\n",
       "      <td>23.134146</td>\n",
       "      <td>15.384615</td>\n",
       "      <td>45.230769</td>\n",
       "      <td>11</td>\n",
       "      <td>MI</td>\n",
       "    </tr>\n",
       "    <tr>\n",
       "      <th>2</th>\n",
       "      <td>2010</td>\n",
       "      <td>1.372431</td>\n",
       "      <td>171.125000</td>\n",
       "      <td>50.125000</td>\n",
       "      <td>1.125000</td>\n",
       "      <td>26.843137</td>\n",
       "      <td>21.000000</td>\n",
       "      <td>39.562500</td>\n",
       "      <td>20</td>\n",
       "      <td>MI</td>\n",
       "    </tr>\n",
       "    <tr>\n",
       "      <th>3</th>\n",
       "      <td>2011</td>\n",
       "      <td>1.199790</td>\n",
       "      <td>143.000000</td>\n",
       "      <td>41.375000</td>\n",
       "      <td>1.375000</td>\n",
       "      <td>27.902439</td>\n",
       "      <td>17.375000</td>\n",
       "      <td>44.312500</td>\n",
       "      <td>18</td>\n",
       "      <td>MI</td>\n",
       "    </tr>\n",
       "    <tr>\n",
       "      <th>4</th>\n",
       "      <td>2012</td>\n",
       "      <td>1.198637</td>\n",
       "      <td>144.823529</td>\n",
       "      <td>39.000000</td>\n",
       "      <td>1.294118</td>\n",
       "      <td>23.009346</td>\n",
       "      <td>17.647059</td>\n",
       "      <td>45.705882</td>\n",
       "      <td>20</td>\n",
       "      <td>MI</td>\n",
       "    </tr>\n",
       "    <tr>\n",
       "      <th>5</th>\n",
       "      <td>2013</td>\n",
       "      <td>1.286765</td>\n",
       "      <td>156.578947</td>\n",
       "      <td>40.526316</td>\n",
       "      <td>1.210526</td>\n",
       "      <td>26.096491</td>\n",
       "      <td>19.578947</td>\n",
       "      <td>44.789474</td>\n",
       "      <td>22</td>\n",
       "      <td>MI</td>\n",
       "    </tr>\n",
       "    <tr>\n",
       "      <th>6</th>\n",
       "      <td>2014</td>\n",
       "      <td>1.307222</td>\n",
       "      <td>156.866667</td>\n",
       "      <td>46.000000</td>\n",
       "      <td>1.266667</td>\n",
       "      <td>26.144444</td>\n",
       "      <td>18.866667</td>\n",
       "      <td>42.866667</td>\n",
       "      <td>14</td>\n",
       "      <td>MI</td>\n",
       "    </tr>\n",
       "    <tr>\n",
       "      <th>7</th>\n",
       "      <td>2015</td>\n",
       "      <td>1.399181</td>\n",
       "      <td>170.875000</td>\n",
       "      <td>43.500000</td>\n",
       "      <td>1.500000</td>\n",
       "      <td>31.425287</td>\n",
       "      <td>22.625000</td>\n",
       "      <td>43.562500</td>\n",
       "      <td>16</td>\n",
       "      <td>MI</td>\n",
       "    </tr>\n",
       "    <tr>\n",
       "      <th>8</th>\n",
       "      <td>2016</td>\n",
       "      <td>1.310633</td>\n",
       "      <td>156.714286</td>\n",
       "      <td>42.857143</td>\n",
       "      <td>1.785714</td>\n",
       "      <td>26.119048</td>\n",
       "      <td>19.928571</td>\n",
       "      <td>44.642857</td>\n",
       "      <td>14</td>\n",
       "      <td>MI</td>\n",
       "    </tr>\n",
       "    <tr>\n",
       "      <th>9</th>\n",
       "      <td>2017</td>\n",
       "      <td>1.363858</td>\n",
       "      <td>164.705882</td>\n",
       "      <td>51.411765</td>\n",
       "      <td>1.588235</td>\n",
       "      <td>25.925926</td>\n",
       "      <td>20.235294</td>\n",
       "      <td>40.117647</td>\n",
       "      <td>20</td>\n",
       "      <td>MI</td>\n",
       "    </tr>\n",
       "    <tr>\n",
       "      <th>10</th>\n",
       "      <td>2018</td>\n",
       "      <td>1.447977</td>\n",
       "      <td>178.928571</td>\n",
       "      <td>53.142857</td>\n",
       "      <td>1.428571</td>\n",
       "      <td>28.146067</td>\n",
       "      <td>22.928571</td>\n",
       "      <td>45.857143</td>\n",
       "      <td>12</td>\n",
       "      <td>MI</td>\n",
       "    </tr>\n",
       "    <tr>\n",
       "      <th>11</th>\n",
       "      <td>2019</td>\n",
       "      <td>1.430113</td>\n",
       "      <td>173.937500</td>\n",
       "      <td>50.500000</td>\n",
       "      <td>1.062500</td>\n",
       "      <td>30.250000</td>\n",
       "      <td>22.000000</td>\n",
       "      <td>42.875000</td>\n",
       "      <td>18</td>\n",
       "      <td>MI</td>\n",
       "    </tr>\n",
       "  </tbody>\n",
       "</table>\n",
       "</div>"
      ],
      "text/plain": [
       "   Season    Avg_SR         RPG  PowerPlay  PP_WLost  RunsPWBat    BoundPG  \\\n",
       "0    2008  1.313131  148.571429  49.000000  1.857143  26.000000  19.642857   \n",
       "1    2009  1.178261  145.923077  38.692308  2.000000  23.134146  15.384615   \n",
       "2    2010  1.372431  171.125000  50.125000  1.125000  26.843137  21.000000   \n",
       "3    2011  1.199790  143.000000  41.375000  1.375000  27.902439  17.375000   \n",
       "4    2012  1.198637  144.823529  39.000000  1.294118  23.009346  17.647059   \n",
       "5    2013  1.286765  156.578947  40.526316  1.210526  26.096491  19.578947   \n",
       "6    2014  1.307222  156.866667  46.000000  1.266667  26.144444  18.866667   \n",
       "7    2015  1.399181  170.875000  43.500000  1.500000  31.425287  22.625000   \n",
       "8    2016  1.310633  156.714286  42.857143  1.785714  26.119048  19.928571   \n",
       "9    2017  1.363858  164.705882  51.411765  1.588235  25.925926  20.235294   \n",
       "10   2018  1.447977  178.928571  53.142857  1.428571  28.146067  22.928571   \n",
       "11   2019  1.430113  173.937500  50.500000  1.062500  30.250000  22.000000   \n",
       "\n",
       "       DotsPG Points Team  \n",
       "0   44.000000     14   MI  \n",
       "1   45.230769     11   MI  \n",
       "2   39.562500     20   MI  \n",
       "3   44.312500     18   MI  \n",
       "4   45.705882     20   MI  \n",
       "5   44.789474     22   MI  \n",
       "6   42.866667     14   MI  \n",
       "7   43.562500     16   MI  \n",
       "8   44.642857     14   MI  \n",
       "9   40.117647     20   MI  \n",
       "10  45.857143     12   MI  \n",
       "11  42.875000     18   MI  "
      ]
     },
     "execution_count": 22,
     "metadata": {},
     "output_type": "execute_result"
    }
   ],
   "source": [
    "MI_Key = pd.DataFrame (MI_Variables, columns = ['Season','Avg_SR','RPG','PowerPlay','PP_WLost','RunsPWBat','BoundPG', 'DotsPG', 'Points'])\n",
    "MI_Key['Team'] = 'MI'\n",
    "MI_Key"
   ]
  },
  {
   "cell_type": "markdown",
   "metadata": {},
   "source": [
    "Saving the final dataframe as a csv"
   ]
  },
  {
   "cell_type": "code",
   "execution_count": 23,
   "metadata": {},
   "outputs": [],
   "source": [
    "MI_Key.to_csv('MI_BT.csv')"
   ]
  },
  {
   "cell_type": "markdown",
   "metadata": {},
   "source": [
    "Example at looking at the relationship between some independent variables and the dependent variable"
   ]
  },
  {
   "cell_type": "code",
   "execution_count": 25,
   "metadata": {},
   "outputs": [
    {
     "data": {
      "text/plain": [
       "<matplotlib.collections.PathCollection at 0x13614f77130>"
      ]
     },
     "execution_count": 25,
     "metadata": {},
     "output_type": "execute_result"
    },
    {
     "data": {
      "image/png": "[encoded data removed]",
      "text/plain": [
       "<Figure size 432x288 with 1 Axes>"
      ]
     },
     "metadata": {
      "needs_background": "light"
     },
     "output_type": "display_data"
    }
   ],
   "source": [
    "import matplotlib.pyplot as plt\n",
    "xs = MI_Key['RPG']\n",
    "ys = MI_Key['PowerPlay']\n",
    "xs, ys = zip(*sorted(zip(ys, xs)))\n",
    "plt.scatter(ys, xs)"
   ]
  },
  {
   "cell_type": "code",
   "execution_count": 26,
   "metadata": {},
   "outputs": [
    {
     "data": {
      "text/plain": [
       "<matplotlib.collections.PathCollection at 0x136151ffc10>"
      ]
     },
     "execution_count": 26,
     "metadata": {},
     "output_type": "execute_result"
    },
    {
     "data": {
      "image/png": "[encoded data removed]",
      "text/plain": [
       "<Figure size 432x288 with 1 Axes>"
      ]
     },
     "metadata": {
      "needs_background": "light"
     },
     "output_type": "display_data"
    }
   ],
   "source": [
    "xs = MI_Key['RunsPWBat']\n",
    "ys = MI_Key['Points']\n",
    "xs, ys = zip(*sorted(zip(ys, xs)))\n",
    "plt.scatter(ys, xs)"
   ]
  },
  {
   "cell_type": "code",
   "execution_count": 27,
   "metadata": {},
   "outputs": [
    {
     "data": {
      "text/plain": [
       "<matplotlib.collections.PathCollection at 0x13613c58790>"
      ]
     },
     "execution_count": 27,
     "metadata": {},
     "output_type": "execute_result"
    },
    {
     "data": {
      "image/png": "[encoded data removed]",
      "text/plain": [
       "<Figure size 432x288 with 1 Axes>"
      ]
     },
     "metadata": {
      "needs_background": "light"
     },
     "output_type": "display_data"
    }
   ],
   "source": [
    "xs = MI_Key['PP_WLost']\n",
    "ys = MI_Key['Points']\n",
    "xs, ys = zip(*sorted(zip(ys, xs)))\n",
    "plt.scatter(ys, xs)"
   ]
  },
  {
   "cell_type": "markdown",
   "metadata": {},
   "source": [
    "This process was performed for all teams and all seasons of the IPL with the available data. This is an example for one team, the process was the same for all teams. Only difference is some teams have only been in the IPL for certain seasons."
   ]
  }
 ],
 "metadata": {
  "kernelspec": {
   "display_name": "Python 3",
   "language": "python",
   "name": "python3"
  },
  "language_info": {
   "codemirror_mode": {
    "name": "ipython",
    "version": 3
   },
   "file_extension": ".py",
   "mimetype": "text/x-python",
   "name": "python",
   "nbconvert_exporter": "python",
   "pygments_lexer": "ipython3",
   "version": "3.8.8"
  }
 },
 "nbformat": 4,
 "nbformat_minor": 4
}
